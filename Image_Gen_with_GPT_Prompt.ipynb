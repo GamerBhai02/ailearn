{
  "nbformat": 4,
  "nbformat_minor": 0,
  "metadata": {
    "colab": {
      "provenance": [],
      "authorship_tag": "ABX9TyO3Bn1hUS4+RowiK+AVleSV"
    },
    "kernelspec": {
      "name": "python3",
      "display_name": "Python 3"
    },
    "language_info": {
      "name": "python"
    }
  },
  "cells": [
    {
      "cell_type": "code",
      "execution_count": 1,
      "metadata": {
        "id": "qGjSqhpEgEWE"
      },
      "outputs": [],
      "source": [
        "!pip install -q openai"
      ]
    },
    {
      "cell_type": "code",
      "source": [
        "from openai import OpenAI\n",
        "import requests\n",
        "import json\n",
        "\n",
        "client = OpenAI(\n",
        "    base_url = \"https://openrouter.ai/api/v1\",\n",
        "    api_key=\"\"\n",
        ")\n",
        "API_KEY = \"\"\n",
        "API_HOST = \"https://api.stablecog.com\"\n",
        "API_ENDPOINT = \"/v1/image/generation/create\"\n",
        "API_URL = f\"{API_HOST}{API_ENDPOINT}\""
      ],
      "metadata": {
        "id": "-nbFyUtFkzfr"
      },
      "execution_count": 8,
      "outputs": []
    },
    {
      "cell_type": "code",
      "source": [
        "def call_agent(user_input):\n",
        "  print(\"Writing prompt...\")\n",
        "  completion = client.chat.completions.create(\n",
        "    model = 'openai/gpt-4o-mini',\n",
        "    messages = [\n",
        "        {\"role\":\"system\",\"content\":\"You are an expert prompt writer. You specialize in writing descriptive prompts for the AI image tool stable diffusion.\"},\n",
        "        {\"role\":\"user\",\"content\":f\"Write a concise prompt for this '{user_input}'. Only give the prompt as output, no extra information.\"}\n",
        "    ]\n",
        "  )\n",
        "  prompt = completion.choices[0].message.content\n",
        "  print(f\"Prompt written: {prompt}\")\n",
        "  return prompt"
      ],
      "metadata": {
        "id": "2p4MuL77i0pU"
      },
      "execution_count": 10,
      "outputs": []
    },
    {
      "cell_type": "code",
      "source": [
        "def generate_image(prompt):\n",
        "    \"\"\"Generate an image using Stablecog API with a custom prompt.\"\"\"\n",
        "    req = {\n",
        "        \"prompt\": prompt,\n",
        "        \"num_outputs\": 1\n",
        "    }\n",
        "\n",
        "    headers = {\n",
        "        \"Authorization\": f\"Bearer {API_KEY}\",\n",
        "        \"Content-Type\": \"application/json\"\n",
        "    }\n",
        "\n",
        "    res = requests.post(API_URL, data=json.dumps(req), headers=headers)\n",
        "\n",
        "    try:\n",
        "        res_json = res.json()\n",
        "        # print(json.dumps(res_json, indent=2))  # Removed for concise output\n",
        "        if res_json and \"outputs\" in res_json and len(res_json[\"outputs\"]) > 0 and \"image_url\" in res_json[\"outputs\"][0]:\n",
        "            print(res_json[\"outputs\"][0][\"image_url\"])\n",
        "            return None\n",
        "        else:\n",
        "            print(\"Image URL not found in the response.\")\n",
        "            return None\n",
        "    except json.JSONDecodeError:\n",
        "        print(\"Error decoding JSON response:\", res.text)\n",
        "        return None\n",
        "\n",
        "def get_text():\n",
        "  text = input(\"Enter your image text: \")\n",
        "  return text"
      ],
      "metadata": {
        "id": "067NtCgds7tl"
      },
      "execution_count": 16,
      "outputs": []
    },
    {
      "cell_type": "code",
      "source": [
        "user_input = get_text()\n",
        "prompt = call_agent(user_input)\n",
        "generate_image(prompt)"
      ],
      "metadata": {
        "colab": {
          "base_uri": "https://localhost:8080/"
        },
        "id": "0LbF1Vlfk3sw",
        "outputId": "6a04496f-08cd-4737-bd3c-c0d4fdd3e134"
      },
      "execution_count": 17,
      "outputs": [
        {
          "output_type": "stream",
          "name": "stdout",
          "text": [
            "Enter your image text: a lion in a park playing with its children\n",
            "Writing prompt...\n",
            "Prompt written: A lion playing joyfully with its cubs in a vibrant green park, surrounded by trees and colorful flowers, with a clear blue sky above.\n",
            "https://b.stablecog.com/71ab5814-7a8a-469b-8264-cf1bbebe159a.jpeg\n"
          ]
        }
      ]
    }
  ]
}
